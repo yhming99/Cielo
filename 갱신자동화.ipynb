{
 "cells": [
  {
   "metadata": {
    "ExecuteTime": {
     "end_time": "2025-02-14T10:48:25.607643Z",
     "start_time": "2025-02-14T10:48:22.569565Z"
    }
   },
   "cell_type": "code",
   "source": [
    "from apscheduler.schedulers.blocking import BlockingScheduler\n",
    "\n",
    "def save_df_to_html():\n",
    "    import pandas as pd\n",
    "    from 매매가전월세통합 import process_real_estate_data\n",
    "\n",
    "    service_key = \"sgOQlwpackhO01oaCAAcwfJy4IGwN%2F2uLcXifUcmx%2FIwLRwPkaBTgz9kBtg5oQg8YRxPZICHxtKF%2BsXKn4rf%2Fw%3D%3D\"\n",
    "    gu_code = 11680\n",
    "    n = 10000\n",
    "    months = 12\n",
    "    filter_region = '대치동'\n",
    "\n",
    "    # 데이터 처리 및 결과 저장\n",
    "    df_combined_result = process_real_estate_data(\n",
    "        service_key=service_key,\n",
    "        gu_code=gu_code,\n",
    "        n=n,\n",
    "        months=months,\n",
    "        filter_region=filter_region\n",
    "    )\n",
    "\n",
    "    # HTML 저장 경로\n",
    "    desktop = \"C:\\\\Users\\\\yoonh\\\\Desktop\"\n",
    "    output_path = f\"{desktop}\\\\df_combined_result.html\"\n",
    "    df_combined_result.to_html(output_path)\n",
    "    print(f\"DataFrame이 {output_path}에 저장되었습니다.\")\n",
    "\n",
    "save_df_to_html()\n",
    "\"\"\"\n",
    "# 스케줄러 설정\n",
    "scheduler = BlockingScheduler()\n",
    "# 매일 06:00 (24시간 기준) 실행되도록 설정\n",
    "scheduler.add_job(save_df_to_html, 'cron', hour=6, minute=0)\n",
    "\n",
    "print(\"스케줄러가 시작되었습니다. 매일 06:00에 데이터가 저장됩니다.\")\n",
    "scheduler.start()\"\"\""
   ],
   "id": "dbf2923fe0b45955",
   "outputs": [
    {
     "name": "stderr",
     "output_type": "stream",
     "text": [
      "C:\\Users\\yoonh\\PycharmProjects\\PythonProject4\\Portfolio\\매매가.py:34: XMLParsedAsHTMLWarning: It looks like you're parsing an XML document using an HTML parser. If this really is an HTML document (maybe it's XHTML?), you can ignore or filter this warning. If it's XML, you should know that using an XML parser will be more reliable. To parse this document as XML, make sure you have the lxml package installed, and pass the keyword argument `features=\"xml\"` into the BeautifulSoup constructor.\n",
      "  house = BeautifulSoup(result, 'lxml')\n",
      "[NbConvertApp] Converting notebook 매매가.ipynb to script\n",
      "[NbConvertApp] Writing 2793 bytes to 매매가.py\n"
     ]
    },
    {
     "ename": "IndentationError",
     "evalue": "expected an indented block (전월세.py, line 13)",
     "output_type": "error",
     "traceback": [
      "Traceback \u001B[1;36m(most recent call last)\u001B[0m:\n",
      "\u001B[0m  File \u001B[0;32m~\\anaconda3\\envs\\PythonProject4\\lib\\site-packages\\IPython\\core\\interactiveshell.py:3526\u001B[0m in \u001B[0;35mrun_code\u001B[0m\n    exec(code_obj, self.user_global_ns, self.user_ns)\u001B[0m\n",
      "\u001B[0m  Cell \u001B[0;32mIn[1], line 28\u001B[0m\n    save_df_to_html()\u001B[0m\n",
      "\u001B[0m  Cell \u001B[0;32mIn[1], line 5\u001B[0m in \u001B[0;35msave_df_to_html\u001B[0m\n    from 매매가전월세통합 import process_real_estate_data\u001B[0m\n",
      "\u001B[0m  File \u001B[0;32m~\\PycharmProjects\\PythonProject4\\Portfolio\\매매가전월세통합.py:98\u001B[0m\n    df_combined_result = process_real_estate_data(\u001B[0m\n",
      "\u001B[1;36m  File \u001B[1;32m~\\PycharmProjects\\PythonProject4\\Portfolio\\매매가전월세통합.py:22\u001B[1;36m in \u001B[1;35mprocess_real_estate_data\u001B[1;36m\n\u001B[1;33m    from 전월세 import fetch_apt_rent_data\u001B[1;36m\n",
      "\u001B[1;36m  File \u001B[1;32m~\\PycharmProjects\\PythonProject4\\Portfolio\\전월세.py:13\u001B[1;36m\u001B[0m\n\u001B[1;33m    \"\"\"\u001B[0m\n\u001B[1;37m    ^\u001B[0m\n\u001B[1;31mIndentationError\u001B[0m\u001B[1;31m:\u001B[0m expected an indented block\n"
     ]
    }
   ],
   "execution_count": 1
  },
  {
   "metadata": {},
   "cell_type": "code",
   "source": "!jupyter nbconvert --to script --output \"갱신자동화\" 갱신자동화.ipynb\n",
   "id": "1544f71813da1c22",
   "outputs": [],
   "execution_count": null
  }
 ],
 "metadata": {
  "kernelspec": {
   "display_name": "Python 3",
   "language": "python",
   "name": "python3"
  },
  "language_info": {
   "codemirror_mode": {
    "name": "ipython",
    "version": 2
   },
   "file_extension": ".py",
   "mimetype": "text/x-python",
   "name": "python",
   "nbconvert_exporter": "python",
   "pygments_lexer": "ipython2",
   "version": "2.7.6"
  }
 },
 "nbformat": 4,
 "nbformat_minor": 5
}
